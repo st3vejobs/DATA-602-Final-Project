{
  "nbformat": 4,
  "nbformat_minor": 0,
  "metadata": {
    "colab": {
      "name": "DATA 602 Final Project.ipynb",
      "provenance": [],
      "collapsed_sections": [],
      "authorship_tag": "ABX9TyP+IW9hWTYbLDdyruTEou7A",
      "include_colab_link": true
    },
    "kernelspec": {
      "name": "python3",
      "display_name": "Python 3"
    },
    "language_info": {
      "name": "python"
    }
  },
  "cells": [
    {
      "cell_type": "markdown",
      "metadata": {
        "id": "view-in-github",
        "colab_type": "text"
      },
      "source": [
        "<a href=\"https://colab.research.google.com/github/st3vejobs/DATA-602-Final-Project/blob/main/DATA_602_Final_Project.ipynb\" target=\"_parent\"><img src=\"https://colab.research.google.com/assets/colab-badge.svg\" alt=\"Open In Colab\"/></a>"
      ]
    },
    {
      "cell_type": "markdown",
      "source": [
        "# DATA 602 Final Project\n",
        "\n",
        "# Shane Hylton\n",
        "\n",
        "## Fantasy Football Projections"
      ],
      "metadata": {
        "id": "Tsihp6c0QB9K"
      }
    },
    {
      "cell_type": "markdown",
      "source": [
        "# Table of contents\n",
        "1. [Abstract](#abstract)\n",
        "  1. [Research Questions](#quest)\n",
        "2. [Part I](#parti)\n",
        "  1. [Data Wrangling](#wrangle)\n",
        "  2. [Linear Regression](#linreg)\n",
        "    1. [Multiple Regression](#multreg)\n",
        "    2. [Univariate Model](#tarpt)\n",
        "    3. [Analysis](#analysis)\n",
        "    4. [Summary of Two Models](#twomod)\n",
        "3. [Part II](#partii)\n",
        "    1. [K-Nearest Neighbors](#knn)\n",
        "    2. [Pass Catcher or Running Back?](#pcc)\n",
        "    3. [KNN Fit Results](#result)\n",
        "4. [Conclusion](#conclusion)\n"
      ],
      "metadata": {
        "id": "F11IT_RCQAgV"
      }
    },
    {
      "cell_type": "markdown",
      "source": [
        "# Abstract <a name=\"abstract\"></a>\n",
        "\n",
        "In this project, I sought to develop a regression model that is able to predict total yards in a week for a player given an array of statistics. I also aimed to develop a model that can provide a prediction of fantasy point total given only one variable as an input.\n",
        "\n",
        "\n",
        "As a secondary element of the project, I tested the ability of the K-Nearest Neighbors method of classification to predict the position of a player given their statline. \n",
        "\n",
        "## Research Questions: <a name=\"quest\"></a>\n",
        "\n",
        "Can I predict the total yards or fantasy points in a week for a player given limited data?\n",
        "\n",
        "Can I predict a player's position based on their recorded statistics?\n",
        "\n",
        "I explored weekly wide receiver statistics for the regression problem.\n",
        "\n",
        "I explored Tight Ends, Running Backs, and Wide Receivers for the classification problem.\n",
        "\n",
        "For the purpose of the predictive models, I split the data from the 2021 season and used a portion of the data to test my predictions.\n",
        "\n",
        "## Conclusions:\n",
        "\n",
        "I was able to fit a multiple regression model using four variables to predict yards in a game. This prediction led to an R-squared of 0.882.\n",
        "\n",
        "\n",
        "I was also able to fit a linear model to predict fantasy point totals given only targets. This model was understandably less productive than the first model. The R-squared for the second model was 0.451.\n",
        "\n",
        "\n",
        "The KNN Classifier was 77% accurate when predicting positions from a pool of wide receivers, running backs, and tight ends. When wide receivers and tight ends are labeled as pass-catchers instead, the accuracy jumped to 86%. \n",
        "\n",
        "[Data Source: FantasyPros](https://www.fantasypros.com/nfl/stats/wr.php?scoring=PPR)\n"
      ],
      "metadata": {
        "id": "1orxjhYLRSbH"
      }
    },
    {
      "cell_type": "markdown",
      "source": [
        "## Package Import and Quick View"
      ],
      "metadata": {
        "id": "M_mNhWpNRdvp"
      }
    },
    {
      "cell_type": "code",
      "source": [
        "import pandas as pd\n",
        "from sklearn.neighbors import KNeighborsClassifier as KNN\n",
        "from sklearn.model_selection import train_test_split as tts\n",
        "import seaborn as sns\n",
        "import numpy as np\n",
        "import matplotlib.pyplot as plt\n",
        "from sklearn.linear_model import LinearRegression as lr\n",
        "from sklearn.metrics import mean_squared_error as mse\n",
        "from sklearn.model_selection import cross_val_score as cvs\n",
        "from sklearn.linear_model import Lasso\n",
        "from sklearn.linear_model import Ridge\n",
        "\n",
        "\n",
        "raw_wr = pd.DataFrame(pd.read_csv(\"https://raw.githubusercontent.com/st3vejobs/2021-WR-Statistics/main/FantasyPros_Fantasy_Football_Statistics_WR.csv\"))\n",
        "\n",
        "print(raw_wr.head())\n",
        "print(raw_wr.dtypes)\n",
        "for i in range(0, len(raw_wr)):\n",
        "  raw_wr.at[i,'YDS'] = str(raw_wr.at[i,'YDS'])\n",
        "  raw_wr.at[i,'YDS'] = raw_wr.at[i,'YDS'].replace(\",\",\"\")\n",
        "\n",
        "raw_wr['YDS'] = pd.to_numeric(raw_wr['YDS'], errors = 'coerce')\n",
        "print(raw_wr.head())\n",
        "wr = pd.DataFrame(raw_wr.dropna())\n",
        "\n",
        "print(wr.describe())"
      ],
      "metadata": {
        "colab": {
          "base_uri": "https://localhost:8080/"
        },
        "id": "Qm5-R-P3xIAF",
        "outputId": "4aa99889-5221-4a0e-a5f7-b8adf1196abb"
      },
      "execution_count": 1,
      "outputs": [
        {
          "output_type": "stream",
          "name": "stdout",
          "text": [
            "   Rank                  Player    REC    TGT    YDS   Y/R    LG  20+    TD  \\\n",
            "0   1.0       Cooper Kupp (LAR)  145.0  191.0  1,947  13.4  59.0  0.0  16.0   \n",
            "1   2.0      Davante Adams (LV)  123.0  169.0  1,553  12.6  59.0  0.0  11.0   \n",
            "2   3.0       Deebo Samuel (SF)   77.0  121.0  1,405  18.2  83.0  0.0   6.0   \n",
            "3   4.0  Justin Jefferson (MIN)  108.0  167.0  1,616  15.0  56.0  0.0  10.0   \n",
            "4   5.0     Ja'Marr Chase (CIN)   81.0  128.0  1,455  18.0  82.0  0.0  13.0   \n",
            "\n",
            "    ATT  YDS.1  TD.1   FL     G   FPTS  FPTS/G    ROST  \n",
            "0   4.0   18.0   0.0  0.0  17.0  439.5    25.9  100.0%  \n",
            "1   0.0    0.0   0.0  0.0  16.0  344.3    21.5  100.0%  \n",
            "2  59.0  365.0   8.0  2.0  16.0  339.0    21.2   98.8%  \n",
            "3   6.0   14.0   0.0  1.0  17.0  330.4    19.4   99.9%  \n",
            "4   7.0   21.0   0.0  1.0  17.0  304.6    17.9   98.5%  \n",
            "Rank      float64\n",
            "Player     object\n",
            "REC       float64\n",
            "TGT       float64\n",
            "YDS        object\n",
            "Y/R       float64\n",
            "LG        float64\n",
            "20+       float64\n",
            "TD        float64\n",
            "ATT       float64\n",
            "YDS.1     float64\n",
            "TD.1      float64\n",
            "FL        float64\n",
            "G         float64\n",
            "FPTS      float64\n",
            "FPTS/G    float64\n",
            "ROST       object\n",
            "dtype: object\n",
            "   Rank                  Player    REC    TGT     YDS   Y/R    LG  20+    TD  \\\n",
            "0   1.0       Cooper Kupp (LAR)  145.0  191.0  1947.0  13.4  59.0  0.0  16.0   \n",
            "1   2.0      Davante Adams (LV)  123.0  169.0  1553.0  12.6  59.0  0.0  11.0   \n",
            "2   3.0       Deebo Samuel (SF)   77.0  121.0  1405.0  18.2  83.0  0.0   6.0   \n",
            "3   4.0  Justin Jefferson (MIN)  108.0  167.0  1616.0  15.0  56.0  0.0  10.0   \n",
            "4   5.0     Ja'Marr Chase (CIN)   81.0  128.0  1455.0  18.0  82.0  0.0  13.0   \n",
            "\n",
            "    ATT  YDS.1  TD.1   FL     G   FPTS  FPTS/G    ROST  \n",
            "0   4.0   18.0   0.0  0.0  17.0  439.5    25.9  100.0%  \n",
            "1   0.0    0.0   0.0  0.0  16.0  344.3    21.5  100.0%  \n",
            "2  59.0  365.0   8.0  2.0  16.0  339.0    21.2   98.8%  \n",
            "3   6.0   14.0   0.0  1.0  17.0  330.4    19.4   99.9%  \n",
            "4   7.0   21.0   0.0  1.0  17.0  304.6    17.9   98.5%  \n",
            "             Rank         REC         TGT          YDS         Y/R  \\\n",
            "count  369.000000  369.000000  369.000000   369.000000  369.000000   \n",
            "mean   185.000000   18.585366   29.414634   231.647696    7.584011   \n",
            "std    106.665365   27.583646   41.724236   350.406380    6.961649   \n",
            "min      1.000000    0.000000    0.000000    -3.000000   -3.000000   \n",
            "25%     93.000000    0.000000    0.000000     0.000000    0.000000   \n",
            "50%    185.000000    4.000000    6.000000    38.000000    9.100000   \n",
            "75%    277.000000   31.000000   49.000000   375.000000   12.900000   \n",
            "max    369.000000  145.000000  191.000000  1947.000000   38.000000   \n",
            "\n",
            "               LG    20+          TD         ATT       YDS.1        TD.1  \\\n",
            "count  369.000000  369.0  369.000000  369.000000  369.000000  369.000000   \n",
            "mean    23.447154    0.0    1.441734    1.607046    9.127371    0.075881   \n",
            "std     24.111112    0.0    2.567035    8.808041   40.658473    0.561140   \n",
            "min      0.000000    0.0    0.000000    0.000000  -13.000000    0.000000   \n",
            "25%      0.000000    0.0    0.000000    0.000000    0.000000    0.000000   \n",
            "50%     17.000000    0.0    0.000000    0.000000    0.000000    0.000000   \n",
            "75%     42.000000    0.0    2.000000    1.000000    2.000000    0.000000   \n",
            "max     91.000000    0.0   16.000000  153.000000  618.000000    8.000000   \n",
            "\n",
            "               FL           G        FPTS      FPTS/G  \n",
            "count  369.000000  369.000000  369.000000  369.000000  \n",
            "mean     0.159892    6.986450   50.779404    4.066667  \n",
            "std      0.440992    6.393129   77.738311    5.197648  \n",
            "min      0.000000    0.000000   -3.300000   -0.700000  \n",
            "25%      0.000000    0.000000    0.000000    0.000000  \n",
            "50%      0.000000    6.000000    8.400000    1.700000  \n",
            "75%      0.000000   14.000000   79.300000    6.900000  \n",
            "max      3.000000   17.000000  439.500000   25.900000  \n"
          ]
        }
      ]
    },
    {
      "cell_type": "markdown",
      "source": [
        "# Part I <a name=\"parti\"></a>\n",
        "## Weekly Scores Data\n",
        "\n",
        "Below, I will add the data for wide receiver statistics for each week of the 2021 season. From there, I will select 80% for training and 20% for testing. I will choose roughly 80% of the weeks available at random for training. I will use regression to predict future scores and yards given other predictors.\n"
      ],
      "metadata": {
        "id": "CA5XB4J_xq6V"
      }
    },
    {
      "cell_type": "markdown",
      "source": [
        "## Data Import"
      ],
      "metadata": {
        "id": "OEW3R1t7RmmP"
      }
    },
    {
      "cell_type": "code",
      "source": [
        "wk18_wr = pd.DataFrame(pd.read_csv(\"https://raw.githubusercontent.com/st3vejobs/Fantasy_Probability/main/FantasyPros_Statistics_WR_18.csv\"))\n",
        "\n",
        "wk17_wr = pd.DataFrame(pd.read_csv(\"https://raw.githubusercontent.com/st3vejobs/Fantasy_Probability/main/FantasyPros_Statistics_WR_17.csv\"))\n",
        "\n",
        "wk16_wr = pd.DataFrame(pd.read_csv(\"https://raw.githubusercontent.com/st3vejobs/Fantasy_Probability/main/FantasyPros_Statistics_WR_16.csv\"))\n",
        "\n",
        "wk15_wr = pd.DataFrame(pd.read_csv(\"https://raw.githubusercontent.com/st3vejobs/Fantasy_Probability/main/FantasyPros_Statistics_WR_15.csv\"))\n",
        "\n",
        "wk14_wr = pd.DataFrame(pd.read_csv(\"https://raw.githubusercontent.com/st3vejobs/Fantasy_Probability/main/FantasyPros_Statistics_WR_14.csv\"))\n",
        "\n",
        "wk13_wr = pd.DataFrame(pd.read_csv(\"https://raw.githubusercontent.com/st3vejobs/Fantasy_Probability/main/FantasyPros_Statistics_WR_13.csv\"))\n",
        "\n",
        "wk12_wr = pd.DataFrame(pd.read_csv(\"https://raw.githubusercontent.com/st3vejobs/Fantasy_Probability/main/FantasyPros_Statistics_WR_12.csv\"))\n",
        "\n",
        "wk11_wr = pd.DataFrame(pd.read_csv(\"https://raw.githubusercontent.com/st3vejobs/Fantasy_Probability/main/FantasyPros_Statistics_WR_11.csv\"))\n",
        "\n",
        "wk10_wr = pd.DataFrame(pd.read_csv(\"https://raw.githubusercontent.com/st3vejobs/Fantasy_Probability/main/FantasyPros_Statistics_WR_10.csv\"))\n",
        "\n",
        "wk9_wr = pd.DataFrame(pd.read_csv(\"https://raw.githubusercontent.com/st3vejobs/Fantasy_Probability/main/FantasyPros_Statistics_WR_9.csv\"))\n",
        "\n",
        "wk8_wr = pd.DataFrame(pd.read_csv(\"https://raw.githubusercontent.com/st3vejobs/Fantasy_Probability/main/FantasyPros_Statistics_WR_8.csv\"))\n",
        "\n",
        "wk7_wr = pd.DataFrame(pd.read_csv(\"https://raw.githubusercontent.com/st3vejobs/Fantasy_Probability/main/FantasyPros_Statistics_WR_7.csv\"))\n",
        "\n",
        "wk6_wr = pd.DataFrame(pd.read_csv(\"https://raw.githubusercontent.com/st3vejobs/Fantasy_Probability/main/FantasyPros_Statistics_WR_6.csv\"))\n",
        "\n",
        "wk5_wr = pd.DataFrame(pd.read_csv(\"https://raw.githubusercontent.com/st3vejobs/Fantasy_Probability/main/FantasyPros_Statistics_WR_5.csv\"))\n",
        "\n",
        "wk4_wr = pd.DataFrame(pd.read_csv(\"https://raw.githubusercontent.com/st3vejobs/Fantasy_Probability/main/FantasyPros_Statistics_WR_4.csv\"))\n",
        "\n",
        "wk3_wr = pd.DataFrame(pd.read_csv(\"https://raw.githubusercontent.com/st3vejobs/Fantasy_Probability/main/FantasyPros_Statistics_WR_3.csv\"))\n",
        "\n",
        "wk2_wr = pd.DataFrame(pd.read_csv(\"https://raw.githubusercontent.com/st3vejobs/Fantasy_Probability/main/FantasyPros_Statistics_WR_2.csv\"))\n",
        "\n",
        "wk1_wr = pd.DataFrame(pd.read_csv(\"https://raw.githubusercontent.com/st3vejobs/Fantasy_Probability/main/FantasyPros_Statistics_WR_1.csv\"))\n"
      ],
      "metadata": {
        "id": "PymO8P7ewjCh"
      },
      "execution_count": 2,
      "outputs": []
    },
    {
      "cell_type": "markdown",
      "source": [
        "### Predicting Future Scores\n",
        "\n",
        "I will make an all-inclusive model for all players as a whole. Fantasy Points on their own are a tricky thing to use in regression, because fantasy points are simply a representative sum each stat line. In order to predict fantasy points, I can work to find one predictor for all other variables and use that one predictor to calculate an expected fantasy point total.\n",
        "\n",
        "For this project, I will assume that fantasy points do not have a known formula.\n",
        "\n",
        "I will begin by using Fantasy Points as my target variable. \n",
        "In this exercise, I will use Targets as my feature variable. One of the easiest variables to predict is the number of targets a player will receive in a game. "
      ],
      "metadata": {
        "id": "r9IEeC8CwijP"
      }
    },
    {
      "cell_type": "markdown",
      "source": [
        "## Linear Regression <a name=\"linreg\"></a>\n",
        "\n",
        "I will be working with data where yards exceeds 10."
      ],
      "metadata": {
        "id": "neQtcL5gDmqn"
      }
    },
    {
      "cell_type": "code",
      "source": [
        "weekly = pd.concat([wk1_wr,wk2_wr,wk3_wr,wk4_wr,wk5_wr,wk6_wr,wk7_wr,wk8_wr,wk9_wr,wk10_wr,wk11_wr,wk12_wr,wk13_wr,wk14_wr,wk15_wr,wk16_wr,wk17_wr,wk18_wr])\n",
        "\n",
        "weekly = weekly.dropna()\n",
        "weekly['YDS'] = weekly['YDS'].astype(float)\n",
        "weekly = weekly[weekly['YDS'] > 10]\n",
        "#print(weekly.describe())\n",
        "\n",
        "weekly = weekly.drop(['Rank','20+','ROST'], axis = 1)\n",
        "weekly = weekly.rename({'Y/R': 'YPC','YDS.1' : 'RuYDS','TD.1':'RuTD'},axis = 1)\n",
        "#print(weekly.describe())\n",
        "\n",
        "nameless = weekly.drop(['Player','G','FPTS/G','YPC'],axis = 1)\n",
        "#print(nameless.head())\n",
        "\n",
        "sns.heatmap(nameless.corr(),square = True,cmap='RdYlGn')"
      ],
      "metadata": {
        "colab": {
          "base_uri": "https://localhost:8080/",
          "height": 310
        },
        "id": "x611T1jL1f_K",
        "outputId": "911a398b-0fb7-4e33-952f-20bf92a02ad2"
      },
      "execution_count": 3,
      "outputs": [
        {
          "output_type": "execute_result",
          "data": {
            "text/plain": [
              "<matplotlib.axes._subplots.AxesSubplot at 0x7f51d075d410>"
            ]
          },
          "metadata": {},
          "execution_count": 3
        },
        {
          "output_type": "display_data",
          "data": {
            "text/plain": [
              "<Figure size 432x288 with 2 Axes>"
            ],
            "image/png": "[encoded data removed]"
          },
          "metadata": {
            "needs_background": "light"
          }
        }
      ]
    },
    {
      "cell_type": "markdown",
      "source": [
        "From the Heat Map, it is easy to see that rushing statistics have very little to do with fantasy points for wide receivers. Yards and Receptions are the most heavily correlated. This checks out, because receivers gain 1 point per reception and 1 point for every ten yards gained. \n",
        "\n",
        "There is an obvious and strong linear relationship between targets and fantasy score. "
      ],
      "metadata": {
        "id": "RmZ4nFWDDuUU"
      }
    },
    {
      "cell_type": "markdown",
      "source": [
        "## Testing a Full Model <a name=\"multreg\"></a>\n"
      ],
      "metadata": {
        "id": "bkK31lr7EuxD"
      }
    },
    {
      "cell_type": "code",
      "source": [
        "X_all = nameless.drop(['FPTS'], axis = 1)\n",
        "y = np.array(nameless['FPTS'])\n",
        "X = np.array(nameless['TGT'])\n",
        "\n",
        "y_reshaped = y.reshape(-1,1)\n",
        "X_reshaped = X.reshape(-1,1)\n",
        "X_train,X_test,y_train,y_test = tts(X_all, y, test_size = 0.20,random_state = 42)\n",
        "reg_all = lr()\n",
        "reg_all.fit(X_train,y_train)\n",
        "y_pred = reg_all.predict(X_test)\n",
        "rmse = np.sqrt(mse(y_test,y_pred))\n",
        "print(f'R-squared: {round(reg_all.score(X_test,y_test),3)}')\n",
        "print(f'Root-Mean Squared Error: {rmse}')\n",
        "print(reg_all.coef_)\n",
        "print(X_train.columns)"
      ],
      "metadata": {
        "colab": {
          "base_uri": "https://localhost:8080/"
        },
        "id": "FFAAwUCzEysA",
        "outputId": "4d0ce53d-c573-4d54-b6d9-f7af9040adfd"
      },
      "execution_count": 4,
      "outputs": [
        {
          "output_type": "stream",
          "name": "stdout",
          "text": [
            "R-squared: 0.939\n",
            "Root-Mean Squared Error: 1.8579880729345115\n",
            "[ 9.51293300e-01  2.41957924e-02  1.04273825e-01  9.60453140e-04\n",
            "  5.84770379e+00 -1.55465895e+00  1.92796015e-01  6.77550049e+00\n",
            " -1.76620590e+00]\n",
            "Index(['REC', 'TGT', 'YDS', 'LG', 'TD', 'ATT', 'RuYDS', 'RuTD', 'FL'], dtype='object')\n"
          ]
        }
      ]
    },
    {
      "cell_type": "markdown",
      "source": [
        "The R-squared is better equipped to represent the model because it gauges the quality of prediction  based on percentage while the RMSE gauges the quality of the prediction based on the variation between predicted and actual values. With that being said, being able to predict fantasy points given all of the components of a fantasy score does not do much beyond telling us which ruleset is being used for the fantasy score.\n",
        "\n",
        "Next, I will adjust the model to predict yards given all of the other data."
      ],
      "metadata": {
        "id": "-7U0dsqoGWtZ"
      }
    },
    {
      "cell_type": "code",
      "source": [
        "X_mod = X_all.drop(['YDS'],axis = 1)\n",
        "y = np.array(nameless['YDS'])\n",
        "X_train,X_test,y_train,y_test = tts(X_mod, y, test_size = 0.20,random_state = 42)\n",
        "reg_all = lr()\n",
        "reg_all.fit(X_train,y_train)\n",
        "y_pred = reg_all.predict(X_test)\n",
        "rmse = np.sqrt(mse(y_test,y_pred))\n",
        "print(f'R-squared: {round(reg_all.score(X_test,y_test),3)}')\n",
        "print(f'Root-Mean Squared Error: {rmse}')\n",
        "print(reg_all.coef_)\n",
        "print(X_train.columns)"
      ],
      "metadata": {
        "colab": {
          "base_uri": "https://localhost:8080/"
        },
        "id": "FlEn9k7FOXEX",
        "outputId": "0e9a922d-a931-4230-bcee-4045179ec737"
      },
      "execution_count": 5,
      "outputs": [
        {
          "output_type": "stream",
          "name": "stdout",
          "text": [
            "R-squared: 0.882\n",
            "Root-Mean Squared Error: 11.958653952704104\n",
            "[ 9.03090825 -0.03671681  1.3838607   1.45215495  0.24108451 -0.09072959\n",
            "  3.69822291  1.71965963]\n",
            "Index(['REC', 'TGT', 'LG', 'TD', 'ATT', 'RuYDS', 'RuTD', 'FL'], dtype='object')\n"
          ]
        }
      ]
    },
    {
      "cell_type": "markdown",
      "source": [
        "$$YDS = 9.03\\times REC -.04 \\times TGT + 1.38 \\times LG + 1.45 \\times TD +0.24 \\times ATT - .09 \\times RuYDS +3.7 \\times RuTD + 1.72 \\times FL $$"
      ],
      "metadata": {
        "id": "UYJiFa2TqVGR"
      }
    },
    {
      "cell_type": "markdown",
      "source": [
        "Looking at the linear equation, it is fair to remove TGT, ATT, RuYDS, FL and RuTD from the model. "
      ],
      "metadata": {
        "id": "3eiXRVkCrXYd"
      }
    },
    {
      "cell_type": "code",
      "source": [
        "X_mod = X_all.drop(['YDS','TGT','ATT','RuYDS','RuTD','FL'],axis = 1)\n",
        "y = np.array(nameless['YDS'])\n",
        "X_train,X_test,y_train,y_test = tts(X_mod, y, test_size = 0.20,random_state = 42)\n",
        "reg_all = lr()\n",
        "reg_all.fit(X_train,y_train)\n",
        "y_pred = reg_all.predict(X_test)\n",
        "rmse = np.sqrt(mse(y_test,y_pred))\n",
        "print(f'R-squared: {round(reg_all.score(X_test,y_test),3)}')\n",
        "print(f'Root-Mean Squared Error: {rmse}')\n",
        "print(reg_all.coef_)\n",
        "print(X_train.columns)"
      ],
      "metadata": {
        "colab": {
          "base_uri": "https://localhost:8080/"
        },
        "id": "iQlb9N1Wr71r",
        "outputId": "04b2cd06-31ef-4af6-bbe3-e3895bf13105"
      },
      "execution_count": 6,
      "outputs": [
        {
          "output_type": "stream",
          "name": "stdout",
          "text": [
            "R-squared: 0.882\n",
            "Root-Mean Squared Error: 11.961276255698403\n",
            "[8.98772342 1.38223633 1.48933423]\n",
            "Index(['REC', 'LG', 'TD'], dtype='object')\n"
          ]
        }
      ]
    },
    {
      "cell_type": "markdown",
      "source": [
        "Removing those five variables had no impact on R-squared, which is rather surprising.\n",
        "\n",
        "Based on the Heat Map, FL should have little to nothing to do with yards. Including FL did not affect the model much one way or another, so I omitted it. "
      ],
      "metadata": {
        "id": "OI7FtbkpsUXL"
      }
    },
    {
      "cell_type": "markdown",
      "source": [
        "$$YDS = 8.99 \\times REC + 1.38 \\times LG + 1.49 \\times TD $$"
      ],
      "metadata": {
        "id": "8PwAIE89svhX"
      }
    },
    {
      "cell_type": "code",
      "source": [
        "\n",
        "#plt.scatter(X_test[\"TGT\"],y_pred)\n",
        "plt.scatter(y_pred,y_pred - y_test,color = 'red')\n",
        "plt.title(\"Scatterplot of Residuals\")\n",
        "plt.xlabel(\"Predicted Values\")\n",
        "plt.ylabel(\"Residuals\")\n",
        "plt.show()\n",
        "\n",
        "resid = pd.DataFrame({\"Residuals\" :y_pred - y_test})\n",
        "#print(resid)\n",
        "resid_hist = sns.histplot(data = resid, x=\"Residuals\",stat = \"density\",binwidth = 4, kde = True).set(title = \"Histogram of Residuals\", xlabel = \"Residual Values\", ylabel = \"Density\")\n",
        "plt.show(resid_hist)"
      ],
      "metadata": {
        "colab": {
          "base_uri": "https://localhost:8080/",
          "height": 573
        },
        "id": "z8VYfEKTtkM9",
        "outputId": "12ee77e7-9289-4dad-f448-a69b18bdf87a"
      },
      "execution_count": 7,
      "outputs": [
        {
          "output_type": "display_data",
          "data": {
            "text/plain": [
              "<Figure size 432x288 with 1 Axes>"
            ],
            "image/png": "[encoded data removed]"
          },
          "metadata": {
            "needs_background": "light"
          }
        },
        {
          "output_type": "display_data",
          "data": {
            "text/plain": [
              "<Figure size 432x288 with 1 Axes>"
            ],
            "image/png": "[encoded data removed]"
          },
          "metadata": {
            "needs_background": "light"
          }
        }
      ]
    },
    {
      "cell_type": "markdown",
      "source": [
        "The residuals seem to be randomly distributed, but there is not constant variability. The histogram of residuals is nearly normal. This model may be effective at predicting yards."
      ],
      "metadata": {
        "id": "ohb68weux5wI"
      }
    },
    {
      "cell_type": "markdown",
      "source": [
        "## Using Targets to Predict Fantasy Points <a name=\"tarpt\"></a>\n",
        "\n",
        "As a final step in the regression problem, I would like to see if I can use Targets to create a prediction for the total fantasy score. I originally thought to use targets to predict longest reception, touchdowns, receptions, and fumbles lost. I tried this, but the R-squared for most of the variables was so small, it did not make sense to include them. Instead, I will aim to use targets alone as a predictor for fantasy points."
      ],
      "metadata": {
        "id": "hhCmkYor1gt1"
      }
    },
    {
      "cell_type": "code",
      "source": [
        "reg = lr()\n",
        "X = np.array(nameless['TGT'])\n",
        "y = np.array(nameless['FPTS'])\n",
        "X = X.reshape(-1,1)\n",
        "y = y.reshape(-1,1)\n",
        "\n",
        "X_train, X_test, y_train, y_test = tts(X, y, test_size = 0.20, random_state=42)\n",
        "\n",
        "reg.fit(X_train,y_train)\n",
        "y_pred = reg.predict(X_test)\n",
        "rmse = np.sqrt(mse(y_test,y_pred))\n",
        "\n",
        "print(f'RMSE: {rmse}')\n",
        "\n",
        "print(f'The R-squared for this model is: {round(reg.score(X_test,y_test),3)}')\n",
        "\n",
        "plt.scatter(X,y)\n",
        "plt.title(\"Targets vs. Fantasy Points\")\n",
        "plt.xlabel(\"Targets\")\n",
        "plt.ylabel(\"Fantasy Points\")\n",
        "plt.show()\n",
        "print(reg.coef_)\n",
        "tg_rec = reg.coef_\n",
        "\n",
        "plt.scatter(X_test,y_pred,color = 'blue')\n",
        "plt.scatter(X_test,y_test,color = 'red')\n",
        "plt.plot(X_test,y_pred, linewidth = 3, color = 'black')\n",
        "plt.title(\"Predicted Targets Vs. Fantasy Points\")\n",
        "plt.xlabel(\"Targets\")\n",
        "plt.ylabel(\"Fantasy Points\")\n",
        "plt.show()\n",
        "\n",
        "\n",
        "## Alternative Method\n",
        "X_all = nameless.drop(['FPTS'], axis = 1)\n",
        "y = np.array(nameless['FPTS'])\n",
        "X = np.array(nameless['TGT'])\n",
        "\n",
        "y_reshaped = y.reshape(-1,1)\n",
        "X_reshaped = X.reshape(-1,1)\n",
        "\n",
        "reg = lr()\n",
        "\n",
        "prediction_space = np.linspace(min(X),max(X)).reshape(-1,1)\n",
        "\n",
        "reg.fit(X_reshaped,y_reshaped)\n",
        "\n",
        "y_pred = reg.predict(prediction_space)\n",
        "\n",
        "print(f'The R-squared for this model is: {round(reg.score(X_reshaped,y_reshaped),3)}')\n",
        "\n",
        "plt.scatter(X,y)\n",
        "\n",
        "plt.plot(prediction_space,y_pred,color = 'black',linewidth = 3)\n",
        "plt.title(\"Targets vs. Fantasy Points\")\n",
        "plt.xlabel(\"Targets\")\n",
        "plt.ylabel(\"Fantasy Points\")\n",
        "plt.show()\n"
      ],
      "metadata": {
        "colab": {
          "base_uri": "https://localhost:8080/",
          "height": 922
        },
        "id": "90_ehTFVZg6J",
        "outputId": "337a879b-ecc2-4c17-cc41-564664fc3065"
      },
      "execution_count": 8,
      "outputs": [
        {
          "output_type": "stream",
          "name": "stdout",
          "text": [
            "RMSE: 5.596800048196686\n",
            "The R-squared for this model is: 0.451\n"
          ]
        },
        {
          "output_type": "display_data",
          "data": {
            "text/plain": [
              "<Figure size 432x288 with 1 Axes>"
            ],
            "image/png": "[encoded data removed]"
          },
          "metadata": {
            "needs_background": "light"
          }
        },
        {
          "output_type": "stream",
          "name": "stdout",
          "text": [
            "[[1.54084009]]\n"
          ]
        },
        {
          "output_type": "display_data",
          "data": {
            "text/plain": [
              "<Figure size 432x288 with 1 Axes>"
            ],
            "image/png": "[encoded data removed]"
          },
          "metadata": {
            "needs_background": "light"
          }
        },
        {
          "output_type": "stream",
          "name": "stdout",
          "text": [
            "The R-squared for this model is: 0.466\n"
          ]
        },
        {
          "output_type": "display_data",
          "data": {
            "text/plain": [
              "<Figure size 432x288 with 1 Axes>"
            ],
            "image/png": "[encoded data removed]"
          },
          "metadata": {
            "needs_background": "light"
          }
        }
      ]
    },
    {
      "cell_type": "markdown",
      "source": [
        "### Analysis <a name=\"analysis\"></a>\n",
        "\n",
        "The R-squared is not terrible here. Considering the goal of predicting fantasy points with only a single input, targets looks to be a sensible choice. Of all of the variables, targets are the easiest to predict as inputs. A predicted value for targets serves as an adequate starting point for the fantasy point calculation. "
      ],
      "metadata": {
        "id": "MnJwGxgs-bEn"
      }
    },
    {
      "cell_type": "markdown",
      "source": [
        "## The Two Linear Models <a name=\"twomod\"></a>"
      ],
      "metadata": {
        "id": "yQDhSKJKFKzY"
      }
    },
    {
      "cell_type": "markdown",
      "source": [
        "With only one predictor, the number of targets, total fantasy points can be predicted with an R-squared of 0.451. While it is not necessarily the strongest, TGT is one of the easiest variables to predict outside of the model, so it is a good choice to use as the one predictor."
      ],
      "metadata": {
        "id": "kfzZ2bbGFe_3"
      }
    },
    {
      "cell_type": "markdown",
      "source": [
        "$$FPTS \\approx 1.54 \\times TGT $$"
      ],
      "metadata": {
        "id": "KvC8_OzsEbwK"
      }
    },
    {
      "cell_type": "markdown",
      "source": [
        "If Receptions, longest catch, and touchdowns are known, then a strong estimate for total yards can be found."
      ],
      "metadata": {
        "id": "vPdCa-h5FT06"
      }
    },
    {
      "cell_type": "markdown",
      "source": [
        "$$YDS = 8.99 \\times REC + 1.38 \\times LG + 1.49 \\times TD $$"
      ],
      "metadata": {
        "id": "XTz4jun6FPGs"
      }
    },
    {
      "cell_type": "markdown",
      "source": [
        "# Part II: <a name=\"partii\"></a>\n",
        "\n",
        "## Classification\n",
        "\n",
        "\n",
        "\n",
        "### Season Long Scoring Data\n",
        "\n",
        "There is plenty of wrangling to take care of here. Not every column fits exactly the same across positions. I will need to reconstruct the dataframes and then combine all three.\n"
      ],
      "metadata": {
        "id": "MuiGo0UwAoLt"
      }
    },
    {
      "cell_type": "code",
      "source": [
        "wr = pd.DataFrame(pd.read_csv(\"https://raw.githubusercontent.com/st3vejobs/2021-WR-Statistics/main/FantasyPros_Fantasy_Football_Statistics_WR.csv\"))\n",
        "wr[\"Pos\"] = \"WR\"\n",
        "rb = pd.DataFrame(pd.read_csv(\"https://raw.githubusercontent.com/st3vejobs/Fantasy_Probability/main/FantasyPros_Statistics_RB_2021.csv\"))\n",
        "rb[\"Pos\"] = \"RB\"\n",
        "te = pd.DataFrame(pd.read_csv(\"https://raw.githubusercontent.com/st3vejobs/Fantasy_Probability/main/FantasyPros_Statistics_TE_2021.csv\"))\n",
        "te[\"Pos\"] = \"TE\"\n",
        "\n",
        "wr = wr.drop([\"20+\",\"FPTS/G\",\"ROST\"], axis = 1)\n",
        "wr = wr.rename({\"YDS.1\":\"RuYDS\",\"TD.1\":\"RuTD\"},axis = 1)\n",
        "te = te.drop([\"20+\",\"FPTS/G\",\"ROST\"], axis = 1)\n",
        "te = te.rename({\"YDS.1\":\"RuYDS\",\"TD.1\":\"RuTD\"},axis = 1)\n",
        "\n",
        "rb = rb.drop([\"Y/A\",\"20+\",\"ROST\",\"FPTS/G\"],axis = 1)\n",
        "\n",
        "rb = rb.rename({\"YDS\":\"RuYDS\",\"TD\":\"RuTD\",\"TD.1\": \"TD\",\"YDS.1\" : \"YDS\"}, axis = 1)\n",
        "\n",
        "wr_cols = wr.columns.tolist()\n",
        "\n",
        "rb = rb[wr_cols]\n",
        "\n",
        "data = pd.concat([rb,wr,te])\n",
        "data['YDS'] = data['YDS'].astype(str)\n",
        "data['YDS'] = data['YDS'].str.replace(',','').astype(float)\n",
        "data['RuYDS'] = data['RuYDS'].astype(str)\n",
        "data['RuYDS'] = data['RuYDS'].str.replace(',','').astype(float)\n",
        "\n",
        "data = pd.DataFrame(data.dropna())\n",
        "y = data['Pos'].values\n",
        "X = data.drop(['Player','Pos'], axis = 1).values\n",
        "\n",
        "\n",
        "print(data.head())\n",
        "\n",
        "print(data.describe())\n"
      ],
      "metadata": {
        "colab": {
          "base_uri": "https://localhost:8080/"
        },
        "id": "J1txGsWnAsvT",
        "outputId": "893baef0-7a0f-46ce-efbf-6523eb932122"
      },
      "execution_count": 9,
      "outputs": [
        {
          "output_type": "stream",
          "name": "stdout",
          "text": [
            "   Rank                 Player   REC   TGT    YDS   Y/R    LG   TD    ATT  \\\n",
            "0   1.0  Jonathan Taylor (IND)  40.0  51.0  360.0   9.0  83.0  2.0  332.0   \n",
            "1   2.0    Austin Ekeler (LAC)  70.0  94.0  647.0   9.2  28.0  8.0  206.0   \n",
            "2   3.0     Najee Harris (PIT)  74.0  94.0  467.0   6.3  37.0  3.0  307.0   \n",
            "3   4.0        Joe Mixon (CIN)  42.0  48.0  314.0   7.5  32.0  3.0  292.0   \n",
            "4   5.0     James Conner (ARI)  37.0  39.0  375.0  10.1  35.0  3.0  202.0   \n",
            "\n",
            "    RuYDS  RuTD   FL     G   FPTS Pos  \n",
            "0  1811.0  18.0  2.0  17.0  373.1  RB  \n",
            "1   911.0  12.0  3.0  16.0  343.8  RB  \n",
            "2  1200.0   7.0  0.0  17.0  300.7  RB  \n",
            "3  1205.0  13.0  1.0  16.0  287.9  RB  \n",
            "4   752.0  15.0  0.0  15.0  257.7  RB  \n",
            "             Rank         REC         TGT          YDS         Y/R  \\\n",
            "count  917.000000  917.000000  917.000000   917.000000  917.000000   \n",
            "mean   156.827699   13.322792   19.847328   145.938931    5.506870   \n",
            "std     94.378285   22.348287   33.141562   268.707859    5.953611   \n",
            "min      1.000000    0.000000    0.000000    -3.000000   -3.000000   \n",
            "25%     77.000000    0.000000    0.000000     0.000000    0.000000   \n",
            "50%    153.000000    2.000000    3.000000    11.000000    5.000000   \n",
            "75%    230.000000   19.000000   26.000000   178.000000   10.100000   \n",
            "max    369.000000  145.000000  191.000000  1947.000000   38.000000   \n",
            "\n",
            "               LG          TD         ATT        RuYDS        RuTD  \\\n",
            "count  917.000000  917.000000  917.000000   917.000000  917.000000   \n",
            "mean    17.223555    0.922574   13.694656    59.161396    0.454744   \n",
            "std     21.068229    1.997133   43.245220   188.908171    1.675462   \n",
            "min      0.000000    0.000000    0.000000   -13.000000    0.000000   \n",
            "25%      0.000000    0.000000    0.000000     0.000000    0.000000   \n",
            "50%      8.000000    0.000000    0.000000     0.000000    0.000000   \n",
            "75%     30.000000    1.000000    2.000000     6.000000    0.000000   \n",
            "max     91.000000   16.000000  332.000000  1811.000000   18.000000   \n",
            "\n",
            "               FL           G        FPTS  \n",
            "count  917.000000  917.000000  917.000000  \n",
            "mean     0.154853    6.051254   41.471210  \n",
            "std      0.462586    6.175437   69.811251  \n",
            "min      0.000000    0.000000   -3.300000  \n",
            "25%      0.000000    0.000000    0.000000  \n",
            "50%      0.000000    4.000000    3.600000  \n",
            "75%      0.000000   12.000000   57.200000  \n",
            "max      4.000000   17.000000  439.500000  \n"
          ]
        }
      ]
    },
    {
      "cell_type": "markdown",
      "source": [
        "## KNN Classifier <a name=\"knn\"></a>\n",
        "\n",
        "I will start the KNN fit with 6 neighbors, and I will work to optimize the number of neighbors. I will use a test size of 20%."
      ],
      "metadata": {
        "id": "CiWgBIDOMQf4"
      }
    },
    {
      "cell_type": "code",
      "source": [
        "X_train, X_test, y_train, y_test = tts(X,y,test_size = 0.2, random_state = 42,stratify = y)\n",
        "\n",
        "knn = KNN(n_neighbors = 6)\n",
        "\n",
        "knn.fit(X_train,y_train)\n",
        "\n",
        "score = knn.score(X_test,y_test) \n",
        "print(score)\n",
        "\n",
        "neighbors = np.arange(1,15)\n",
        "train_accuracy = np.empty(len(neighbors))\n",
        "test_accuracy = np.empty(len(neighbors))\n",
        "\n",
        "for i, k in enumerate(neighbors):\n",
        "  knn = KNN(n_neighbors = k)\n",
        "  knn.fit(X_train,y_train)\n",
        "  train_accuracy[i] = knn.score(X_train,y_train)\n",
        "  test_accuracy[i] = knn.score(X_test,y_test)\n",
        "\n",
        "plt.title('k-NN: Optimizing Neighbors')\n",
        "plt.plot(neighbors, test_accuracy, label = 'Test Accuracy')\n",
        "plt.plot(neighbors, train_accuracy, label = 'Train Accuracy')\n",
        "plt.legend()\n",
        "plt.xlabel('Number of Neighbors')\n",
        "plt.ylabel('Accuracy')\n",
        "plt.show()\n",
        "\n",
        "knn_opt = KNN(n_neighbors = 6)\n",
        "knn_opt.fit(X_train,y_train)\n",
        "score_opt = knn_opt.score(X_test,y_test)\n",
        "print(score_opt)\n"
      ],
      "metadata": {
        "colab": {
          "base_uri": "https://localhost:8080/",
          "height": 330
        },
        "id": "5kVWPX1cBME2",
        "outputId": "32508eeb-8713-430e-dc4c-c65dca7ad210"
      },
      "execution_count": 10,
      "outputs": [
        {
          "output_type": "stream",
          "name": "stdout",
          "text": [
            "0.7771739130434783\n"
          ]
        },
        {
          "output_type": "display_data",
          "data": {
            "text/plain": [
              "<Figure size 432x288 with 1 Axes>"
            ],
            "image/png": "[encoded data removed]"
          },
          "metadata": {
            "needs_background": "light"
          }
        },
        {
          "output_type": "stream",
          "name": "stdout",
          "text": [
            "0.7771739130434783\n"
          ]
        }
      ]
    },
    {
      "cell_type": "markdown",
      "source": [
        "## Primary Pass Catchers vs. Running Backs <a name=\"pcc\"></a>\n",
        "\n",
        "Because Tight Ends and Wide Receivers often line up alongside one another, I will modify the Tight Ends and Wide Receivers to be \"PC\" and I will run the KNN Test again."
      ],
      "metadata": {
        "id": "LpGVcRcGn6D0"
      }
    },
    {
      "cell_type": "code",
      "source": [
        "pcte = te\n",
        "pcte[\"Pos\"] = \"PC\"\n",
        "pcwr = wr\n",
        "pcwr[\"Pos\"] = \"PC\"\n",
        "\n",
        "data_pc = pd.concat([pcte,pcwr,rb])\n",
        "\n",
        "data_pc['YDS'] = data_pc['YDS'].astype(str)\n",
        "data_pc['YDS'] = data_pc['YDS'].str.replace(',','').astype(float)\n",
        "data_pc['RuYDS'] = data_pc['RuYDS'].astype(str)\n",
        "data_pc['RuYDS'] = data_pc['RuYDS'].str.replace(',','').astype(float)\n",
        "\n",
        "data_pc = pd.DataFrame(data_pc.dropna())\n",
        "y_pc = data_pc['Pos'].values\n",
        "X_pc = data_pc.drop(['Player','Pos'], axis = 1).values\n",
        "\n",
        "\n",
        "X_train_pc, X_test_pc, y_train_pc, y_test_pc = tts(X_pc,y_pc,test_size = 0.2, random_state = 42,stratify = y_pc)\n",
        "\n",
        "knn_pc = KNN(n_neighbors = 6)\n",
        "\n",
        "knn_pc.fit(X_train_pc,y_train_pc)\n",
        "\n",
        "score_pc = knn_pc.score(X_test_pc,y_test_pc) \n",
        "print(score_pc)\n",
        "\n",
        "neighbors_pc = np.arange(1,15)\n",
        "train_accuracy_pc = np.empty(len(neighbors_pc))\n",
        "test_accuracy_pc = np.empty(len(neighbors_pc))\n",
        "\n",
        "for i, k in enumerate(neighbors_pc):\n",
        "  knn_pc = KNN(n_neighbors = k)\n",
        "  knn_pc.fit(X_train_pc,y_train_pc)\n",
        "  train_accuracy_pc[i] = knn_pc.score(X_train_pc,y_train_pc)\n",
        "  test_accuracy_pc[i] = knn_pc.score(X_test_pc,y_test_pc)\n",
        "\n",
        "plt.title('k-NN: Optimizing Neighbors')\n",
        "plt.plot(neighbors_pc, test_accuracy_pc, label = 'Test Accuracy')\n",
        "plt.plot(neighbors_pc, train_accuracy_pc, label = 'Train Accuracy')\n",
        "plt.legend()\n",
        "plt.xlabel('Number of Neighbors')\n",
        "plt.ylabel('Accuracy')\n",
        "plt.show()\n",
        "\n",
        "knn_pc_opt = KNN(n_neighbors = 8)\n",
        "knn_pc_opt.fit(X_train_pc,y_train_pc)\n",
        "score_pc_opt = knn_pc_opt.score(X_test_pc,y_test_pc)\n",
        "print(score_pc_opt)\n"
      ],
      "metadata": {
        "colab": {
          "base_uri": "https://localhost:8080/",
          "height": 330
        },
        "id": "DZ0eRDWEoAO_",
        "outputId": "ad9e3b40-2503-4db6-d8d6-3e71f286886f"
      },
      "execution_count": 11,
      "outputs": [
        {
          "output_type": "stream",
          "name": "stdout",
          "text": [
            "0.842391304347826\n"
          ]
        },
        {
          "output_type": "display_data",
          "data": {
            "text/plain": [
              "<Figure size 432x288 with 1 Axes>"
            ],
            "image/png": "[encoded data removed]"
          },
          "metadata": {
            "needs_background": "light"
          }
        },
        {
          "output_type": "stream",
          "name": "stdout",
          "text": [
            "0.8586956521739131\n"
          ]
        }
      ]
    },
    {
      "cell_type": "markdown",
      "source": [
        "### KNN Fit Results <a name=\"result\"></a>\n",
        "\n",
        "For the first model, 6 neighbors is optimal. For the second model, 8 neighbors is optimal. As I expected, the second model is around 10% more accurate than the first. \n",
        "\n"
      ],
      "metadata": {
        "id": "qUWC3gYysnnl"
      }
    },
    {
      "cell_type": "markdown",
      "source": [
        "# Conclusions <a name=\"conclusion\"></a>\n",
        "\n",
        "This project went through multiple different iterations. There were multiple models that I created that were discarded for a better model. Given the restrictions of my research question, the two best models I obtained were: \n"
      ],
      "metadata": {
        "id": "DEN9qaX4GqPw"
      }
    },
    {
      "cell_type": "markdown",
      "source": [
        "$$FPTS \\approx 1.54 \\times TGT $$"
      ],
      "metadata": {
        "id": "F-K9ahlpjqbf"
      }
    },
    {
      "cell_type": "markdown",
      "source": [
        "With an R-squared of 0.451."
      ],
      "metadata": {
        "id": "drJCfjuVjwMe"
      }
    },
    {
      "cell_type": "markdown",
      "source": [
        "$$YDS = 8.99 \\times REC + 1.38 \\times LG + 1.49 \\times TD $$"
      ],
      "metadata": {
        "id": "DWpWYVaRkT4h"
      }
    },
    {
      "cell_type": "markdown",
      "source": [
        "With an R-squared of 0.882."
      ],
      "metadata": {
        "id": "mOCn82stkY_k"
      }
    },
    {
      "cell_type": "markdown",
      "source": [
        "\n",
        "As a next step, I would like to work towards being able to produce accurate projections for players on a weekly basis. I will aim to have that model ready for this fall and I will test my performance week over week."
      ],
      "metadata": {
        "id": "BL9JGLtijoRH"
      }
    },
    {
      "cell_type": "markdown",
      "source": [
        "The KNN Classifier was very successful. The model was 77% accurate when predicting labels of WR, RB, and TE. The model was 86% accurate when predicting labels of PC and RB. "
      ],
      "metadata": {
        "id": "N0OomkaAlMou"
      }
    }
  ]
}