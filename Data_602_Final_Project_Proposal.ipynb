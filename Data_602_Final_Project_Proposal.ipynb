{
  "nbformat": 4,
  "nbformat_minor": 0,
  "metadata": {
    "colab": {
      "name": "Data 602 Final Project Proposal",
      "provenance": [],
      "collapsed_sections": [],
      "authorship_tag": "ABX9TyN1x3jumuJTZJhzcZhuD1U0",
      "include_colab_link": true
    },
    "kernelspec": {
      "name": "python3",
      "display_name": "Python 3"
    },
    "language_info": {
      "name": "python"
    }
  },
  "cells": [
    {
      "cell_type": "markdown",
      "metadata": {
        "id": "view-in-github",
        "colab_type": "text"
      },
      "source": [
        "<a href=\"https://colab.research.google.com/github/st3vejobs/DATA-602-Final-Project/blob/main/Data_602_Final_Project_Proposal.ipynb\" target=\"_parent\"><img src=\"https://colab.research.google.com/assets/colab-badge.svg\" alt=\"Open In Colab\"/></a>"
      ]
    },
    {
      "cell_type": "markdown",
      "source": [
        "# Final Project Proposal\n",
        "## Shane Hylton\n",
        "## Data 602"
      ],
      "metadata": {
        "id": "lwSiZeEUUoSW"
      }
    },
    {
      "cell_type": "markdown",
      "source": [
        "I will be exploring football statistics and I will look to build a projection model for players' performances for the upcoming NFL season. Fantasy football is a central element of my life, and it is one of the few things I consider myself to be truly great at. I have always wondered where experts come up with their projections and I want to be able to build my own. "
      ],
      "metadata": {
        "id": "oQKR3UpfUa8D"
      }
    },
    {
      "cell_type": "markdown",
      "source": [
        "## Research Question\n",
        "\n",
        "Can I predict the total fantasy points scored by a player for an upcoming week or year? Can one value be used as a predictor for all of the other statistics for a given position?"
      ],
      "metadata": {
        "id": "dfLRkhtPVL5m"
      }
    },
    {
      "cell_type": "markdown",
      "source": [
        "## Data Sources\n",
        "\n",
        "I will most likely be exclusively using data from the [FantasyPros](https://www.fantasypros.com/nfl/stats/qb.php) website. I will load CSV files into Github for easy access. "
      ],
      "metadata": {
        "id": "IvVtJ15xV30K"
      }
    },
    {
      "cell_type": "markdown",
      "source": [
        "## Libraries\n",
        "\n",
        "I plan to use pandas to load the data into dataframes. I will use matplotlib.pyplot to plot my data. I will be using numPy for regression and linear analysis. \n"
      ],
      "metadata": {
        "id": "k2506Gm4WbHn"
      }
    },
    {
      "cell_type": "markdown",
      "source": [
        "## Exploratory Data Analysis and Summary Statistics"
      ],
      "metadata": {
        "id": "CR1K5lCXWvft"
      }
    },
    {
      "cell_type": "code",
      "source": [
        "import pandas as pd\n",
        "\n",
        "raw_wr = pd.DataFrame(pd.read_csv(\"https://raw.githubusercontent.com/st3vejobs/2021-WR-Statistics/main/FantasyPros_Fantasy_Football_Statistics_WR.csv\"))\n",
        "\n",
        "print(raw_wr.head())\n",
        "print(raw_wr.dtypes)\n",
        "for i in range(0, len(raw_wr)):\n",
        "  raw_wr.at[i,'YDS'] = str(raw_wr.at[i,'YDS'])\n",
        "  raw_wr.at[i,'YDS'] = raw_wr.at[i,'YDS'].replace(\",\",\"\")\n",
        "\n",
        "raw_wr['YDS'] = pd.to_numeric(raw_wr['YDS'], errors = 'coerce')\n",
        "print(raw_wr.head())\n",
        "wr = pd.DataFrame(raw_wr.dropna())\n",
        "\n",
        "print(wr.describe())"
      ],
      "metadata": {
        "colab": {
          "base_uri": "https://localhost:8080/"
        },
        "id": "uizVm6yzV-Ai",
        "outputId": "9d858b9b-271f-4b53-8eea-b3e92b8f27ad"
      },
      "execution_count": null,
      "outputs": [
        {
          "output_type": "stream",
          "name": "stdout",
          "text": [
            "   Rank                  Player    REC    TGT    YDS   Y/R    LG  20+    TD  \\\n",
            "0   1.0       Cooper Kupp (LAR)  145.0  191.0  1,947  13.4  59.0  0.0  16.0   \n",
            "1   2.0      Davante Adams (LV)  123.0  169.0  1,553  12.6  59.0  0.0  11.0   \n",
            "2   3.0       Deebo Samuel (SF)   77.0  121.0  1,405  18.2  83.0  0.0   6.0   \n",
            "3   4.0  Justin Jefferson (MIN)  108.0  167.0  1,616  15.0  56.0  0.0  10.0   \n",
            "4   5.0     Ja'Marr Chase (CIN)   81.0  128.0  1,455  18.0  82.0  0.0  13.0   \n",
            "\n",
            "    ATT  YDS.1  TD.1   FL     G   FPTS  FPTS/G    ROST  \n",
            "0   4.0   18.0   0.0  0.0  17.0  439.5    25.9  100.0%  \n",
            "1   0.0    0.0   0.0  0.0  16.0  344.3    21.5  100.0%  \n",
            "2  59.0  365.0   8.0  2.0  16.0  339.0    21.2   98.8%  \n",
            "3   6.0   14.0   0.0  1.0  17.0  330.4    19.4   99.9%  \n",
            "4   7.0   21.0   0.0  1.0  17.0  304.6    17.9   98.5%  \n",
            "Rank      float64\n",
            "Player     object\n",
            "REC       float64\n",
            "TGT       float64\n",
            "YDS        object\n",
            "Y/R       float64\n",
            "LG        float64\n",
            "20+       float64\n",
            "TD        float64\n",
            "ATT       float64\n",
            "YDS.1     float64\n",
            "TD.1      float64\n",
            "FL        float64\n",
            "G         float64\n",
            "FPTS      float64\n",
            "FPTS/G    float64\n",
            "ROST       object\n",
            "dtype: object\n",
            "   Rank                  Player    REC    TGT     YDS   Y/R    LG  20+    TD  \\\n",
            "0   1.0       Cooper Kupp (LAR)  145.0  191.0  1947.0  13.4  59.0  0.0  16.0   \n",
            "1   2.0      Davante Adams (LV)  123.0  169.0  1553.0  12.6  59.0  0.0  11.0   \n",
            "2   3.0       Deebo Samuel (SF)   77.0  121.0  1405.0  18.2  83.0  0.0   6.0   \n",
            "3   4.0  Justin Jefferson (MIN)  108.0  167.0  1616.0  15.0  56.0  0.0  10.0   \n",
            "4   5.0     Ja'Marr Chase (CIN)   81.0  128.0  1455.0  18.0  82.0  0.0  13.0   \n",
            "\n",
            "    ATT  YDS.1  TD.1   FL     G   FPTS  FPTS/G    ROST  \n",
            "0   4.0   18.0   0.0  0.0  17.0  439.5    25.9  100.0%  \n",
            "1   0.0    0.0   0.0  0.0  16.0  344.3    21.5  100.0%  \n",
            "2  59.0  365.0   8.0  2.0  16.0  339.0    21.2   98.8%  \n",
            "3   6.0   14.0   0.0  1.0  17.0  330.4    19.4   99.9%  \n",
            "4   7.0   21.0   0.0  1.0  17.0  304.6    17.9   98.5%  \n",
            "             Rank         REC         TGT          YDS         Y/R  \\\n",
            "count  369.000000  369.000000  369.000000   369.000000  369.000000   \n",
            "mean   185.000000   18.585366   29.414634   231.647696    7.584011   \n",
            "std    106.665365   27.583646   41.724236   350.406380    6.961649   \n",
            "min      1.000000    0.000000    0.000000    -3.000000   -3.000000   \n",
            "25%     93.000000    0.000000    0.000000     0.000000    0.000000   \n",
            "50%    185.000000    4.000000    6.000000    38.000000    9.100000   \n",
            "75%    277.000000   31.000000   49.000000   375.000000   12.900000   \n",
            "max    369.000000  145.000000  191.000000  1947.000000   38.000000   \n",
            "\n",
            "               LG    20+          TD         ATT       YDS.1        TD.1  \\\n",
            "count  369.000000  369.0  369.000000  369.000000  369.000000  369.000000   \n",
            "mean    23.447154    0.0    1.441734    1.607046    9.127371    0.075881   \n",
            "std     24.111112    0.0    2.567035    8.808041   40.658473    0.561140   \n",
            "min      0.000000    0.0    0.000000    0.000000  -13.000000    0.000000   \n",
            "25%      0.000000    0.0    0.000000    0.000000    0.000000    0.000000   \n",
            "50%     17.000000    0.0    0.000000    0.000000    0.000000    0.000000   \n",
            "75%     42.000000    0.0    2.000000    1.000000    2.000000    0.000000   \n",
            "max     91.000000    0.0   16.000000  153.000000  618.000000    8.000000   \n",
            "\n",
            "               FL           G        FPTS      FPTS/G  \n",
            "count  369.000000  369.000000  369.000000  369.000000  \n",
            "mean     0.159892    6.986450   50.779404    4.066667  \n",
            "std      0.440992    6.393129   77.738311    5.197648  \n",
            "min      0.000000    0.000000   -3.300000   -0.700000  \n",
            "25%      0.000000    0.000000    0.000000    0.000000  \n",
            "50%      0.000000    6.000000    8.400000    1.700000  \n",
            "75%      0.000000   14.000000   79.300000    6.900000  \n",
            "max      3.000000   17.000000  439.500000   25.900000  \n"
          ]
        }
      ]
    }
  ]
}